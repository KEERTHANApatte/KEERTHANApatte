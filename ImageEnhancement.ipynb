{
 "cells": [
  {
   "cell_type": "code",
   "execution_count": 1,
   "metadata": {},
   "outputs": [],
   "source": [
    "from PIL import Image\n",
    "from PIL import ImageEnhance\n",
    "  \n",
    "# Opens the image file\n",
    "image = Image.open('bird.jpg')  \n",
    "  \n",
    "# shows image in image viewer\n",
    "image.show()  \n",
    "  \n",
    "  \n",
    "# Enhance Brightness\n",
    "curr_bri = ImageEnhance.Brightness(image)\n",
    "new_bri = 2.5\n",
    "  \n",
    "# Brightness enhanced by a factor of 2.5\n",
    "img_brightened = curr_bri.enhance(new_bri)\n",
    "  \n",
    "# shows updated image in image viewer\n",
    "img_brightened.show()  "
   ]
  },
  {
   "cell_type": "code",
   "execution_count": 2,
   "metadata": {},
   "outputs": [],
   "source": [
    "from PIL import Image\n",
    "from PIL import ImageEnhance\n",
    "  \n",
    "# Opens the image file\n",
    "image = Image.open('bird.jpg')\n",
    "  \n",
    "# shows image in image viewer\n",
    "image.show()\n",
    "  \n",
    "  \n",
    "# Enhance Contrast\n",
    "curr_con = ImageEnhance.Contrast(image)\n",
    "new_con = 0.3\n",
    "  \n",
    "# Contrast enhanced by a factor of 0.3\n",
    "img_contrasted = curr_con.enhance(new_con)\n",
    "  \n",
    "# shows updated image in image viewer\n",
    "img_contrasted.show()  "
   ]
  },
  {
   "cell_type": "code",
   "execution_count": 4,
   "metadata": {},
   "outputs": [],
   "source": []
  },
  {
   "cell_type": "code",
   "execution_count": null,
   "metadata": {},
   "outputs": [],
   "source": []
  }
 ],
 "metadata": {
  "kernelspec": {
   "display_name": "Python 3",
   "language": "python",
   "name": "python3"
  },
  "language_info": {
   "codemirror_mode": {
    "name": "ipython",
    "version": 3
   },
   "file_extension": ".py",
   "mimetype": "text/x-python",
   "name": "python",
   "nbconvert_exporter": "python",
   "pygments_lexer": "ipython3",
   "version": "3.7.4"
  }
 },
 "nbformat": 4,
 "nbformat_minor": 2
}
